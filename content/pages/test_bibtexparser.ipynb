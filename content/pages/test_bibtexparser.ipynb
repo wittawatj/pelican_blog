{
 "cells": [
  {
   "cell_type": "code",
   "execution_count": null,
   "metadata": {
    "collapsed": false
   },
   "outputs": [],
   "source": [
    "import bibtexparser\n",
    "from bibtexparser.bparser import BibTexParser \n",
    "\n",
    "\n",
    "def test_bibtexparser():\n",
    "    \"\"\"Test bibtexparser library\n",
    "    https://bibtexparser.readthedocs.org/en/latest/tutorial.html\n",
    "    \"\"\"\n",
    "    with open('wjpubs.bib') as bibtex_file:\n",
    "        bib_db = bibtexparser.load(bibtex_file)\n",
    "    print bib_db.entries\n",
    "\n"
   ]
  },
  {
   "cell_type": "code",
   "execution_count": null,
   "metadata": {
    "collapsed": false
   },
   "outputs": [],
   "source": [
    "#test_bibtexparser()"
   ]
  },
  {
   "cell_type": "code",
   "execution_count": null,
   "metadata": {
    "collapsed": false
   },
   "outputs": [],
   "source": [
    "import bibtexparser.customization as bcus\n"
   ]
  },
  {
   "cell_type": "code",
   "execution_count": null,
   "metadata": {
    "collapsed": false
   },
   "outputs": [],
   "source": [
    "# Let's define a function to customize our entries.\n",
    "# It takes a record and return this record.\n",
    "def customizations(record):\n",
    "    \"\"\"Use some functions delivered by the library\n",
    "\n",
    "    :param record: a record\n",
    "    :returns: -- customized record\n",
    "    \"\"\"\n",
    "    record = bcus.type(record)\n",
    "    record = bcus.author(record)\n",
    "    record = bcus.editor(record)\n",
    "    #record = bcus.journal(record)\n",
    "    record = bcus.keyword(record)\n",
    "    #record = bcus.link(record)\n",
    "    record = bcus.page_double_hyphen(record)\n",
    "    record = bcus.doi(record)\n",
    "    return record\n"
   ]
  },
  {
   "cell_type": "code",
   "execution_count": null,
   "metadata": {
    "collapsed": false,
    "scrolled": true
   },
   "outputs": [],
   "source": [
    "import pprint \n",
    "fname = 'wjpubs.bib'\n",
    "with open(fname) as bibtex_file:\n",
    "    parser = BibTexParser()\n",
    "    parser.customization = customizations\n",
    "    bib_db = bibtexparser.load(bibtex_file, parser=parser)\n",
    "    #print bib_db.entries\n",
    "    pprint.pprint(bib_db.entries)"
   ]
  },
  {
   "cell_type": "code",
   "execution_count": null,
   "metadata": {
    "collapsed": false
   },
   "outputs": [],
   "source": [
    "def format_author(au_list, au_func=None):\n",
    "    \"\"\"au_func is a function taking in first name last name and return \n",
    "    an HTML formatted text.\n",
    "    Format the author list into plain text\"\"\"\n",
    "    \n",
    "    fl_list = []\n",
    "    for a in au_list:\n",
    "        lf = [x.strip() for x in a.split(',')]\n",
    "        fn = '%s %s'%(lf[1], lf[0])\n",
    "        formatted = au_func(fn) if au_func is not None else fn\n",
    "        fl_list.append(formatted)\n",
    "    s = ', '.join(fl_list[:-1]) + ', and ' + fl_list[-1]\n",
    "    return s\n",
    "\n",
    " \n",
    "au_list = bib_db.entries[0]['author']\n",
    "print format_author(au_list)"
   ]
  },
  {
   "cell_type": "code",
   "execution_count": null,
   "metadata": {
    "collapsed": false
   },
   "outputs": [],
   "source": [
    "from bibtexparser.bibdatabase import BibDatabase\n",
    "\n",
    "def id2bibsrc(fname, ignore_key_list=None):\n",
    "    src = {}\n",
    "    with open(fname) as bibtext_file:\n",
    "        raw_db = bibtexparser.load(bibtext_file)\n",
    "        for en in raw_db.entries:\n",
    "            tmp_db = BibDatabase()\n",
    "                \n",
    "            if ignore_key_list is not None:\n",
    "                for k in ignore_key_list:\n",
    "                    en.pop(k, None)\n",
    "            \n",
    "            tmp_db.entries = [en]\n",
    "            en_src = bibtexparser.dumps(tmp_db)\n",
    "            src[en['id']] = en_src\n",
    "    return src\n",
    "\n",
    "src = id2bibsrc(fname)\n",
    "src['Jitkrittum2009']"
   ]
  },
  {
   "cell_type": "code",
   "execution_count": null,
   "metadata": {
    "collapsed": false
   },
   "outputs": [],
   "source": [
    "def clean_value(st):\n",
    "    return st.replace('{', '').replace('}', '').replace('\\&', '&')\n",
    "\n",
    "def format_key(key, entry, map_func):\n",
    "    form = map_func[key](entry[key]) if key in map_func else entry[key]\n",
    "    form = clean_value(form)\n",
    "    return form\n",
    "                        \n",
    "def format_bib_db(bib_db, map_func):\n",
    "    \"\"\"\n",
    "    bib_db: a list of dictionaries from bibtexparser.load(..)\n",
    "    map_func: a dict mapping from bibtex keys to functions to format the values\n",
    "    associated with the keys\"\"\"\n",
    "   \n",
    "    html = ''\n",
    "    for entry in bib_db:\n",
    "        html += format_key('author', entry, map_func) + '.\\n'\n",
    "        html += format_key('title', entry, map_func) + '\\n'\n",
    "        #pprint.pprint(entry)\n",
    "        if 'journal' in entry:\n",
    "            html += format_key('journal', entry, map_func)\n",
    "        elif 'booktitle' in entry:\n",
    "            html += format_key('booktitle', entry, map_func)    \n",
    "        html += ', '\n",
    "        if 'year' in entry:\n",
    "            html += format_key('year', entry, map_func)    \n",
    "        html += '. '\n",
    "        if 'link' in entry:\n",
    "            html += 'URL: ' + format_key('link', entry, map_func)    \n",
    "            \n",
    "        html += '\\n\\n'\n",
    "    return html\n",
    "    \n",
    "\n",
    "def author_func(author):\n",
    "    a = author.strip()\n",
    "    if a=='Wittawat Jitkrittum':\n",
    "        return '<b>Wittawat Jitkrittum</b>'\n",
    "    \n",
    "    def link_author(text, href):\n",
    "        return '<a href=\"%s\">%s</a>'%(href, text)\n",
    "    M = dict([\n",
    "        ('Arthur Gretton', 'http://www.gatsby.ucl.ac.uk/~gretton/'),\n",
    "        ('Nicolas Heess', 'http://homepages.inf.ed.ac.uk/s0677090/'),\n",
    "        ('S. M. Ali Eslami', 'http://arkitus.com/'),\n",
    "        ('Balaji Lakshminarayanan', 'http://www.gatsby.ucl.ac.uk/~balaji/'),\n",
    "        ('Dino Sejdinovic', 'http://www.stats.ox.ac.uk/~sejdinov/'),\n",
    "        (u'Zoltán Szabó', 'http://www.gatsby.ucl.ac.uk/~szabo/'),\n",
    "        ('Mijung Park', 'http://www.gatsby.ucl.ac.uk/~mijung/'),\n",
    "        ('Makoto Yamada', 'http://www.makotoyamada-ml.com/'),\n",
    "        ('Leonid Sigal', 'http://cs.brown.edu/~ls/'),\n",
    "        ('Eric P. Xing', 'http://www.cs.cmu.edu/~epxing/'),\n",
    "        ('Masashi Sugiyama', 'http://www.ms.k.u-tokyo.ac.jp/index.html'),\n",
    "        ('Hirotaka Hachiya', 'http://sugiyama-www.cs.titech.ac.jp/~hachiya/'),\n",
    "        ('Gang Niu', 'http://sugiyama-www.cs.titech.ac.jp/~gang/'),\n",
    "        ('Bo Dai', 'https://sites.google.com/site/daibohr/'), \n",
    "\n",
    "    ]);\n",
    "    if a in M:\n",
    "        return link_author(a, M[a])\n",
    "    else:\n",
    "        return a\n",
    "    \n",
    "map_func = {'author': format_author}\n",
    "print format_bib_db(bib_db.entries, map_func)"
   ]
  },
  {
   "cell_type": "code",
   "execution_count": null,
   "metadata": {
    "collapsed": false,
    "scrolled": true
   },
   "outputs": [],
   "source": [
    "\n",
    "def format_html_bib_db(bib_db, map_func, map_src):\n",
    "    \"\"\"\n",
    "    bib_db: a list of dictionaries from bibtexparser.load(..)\n",
    "    map_func: a dict mapping from bibtex keys to functions to format the values\n",
    "    associated with the keys. \n",
    "    map_src: a dict from bib key to bib source of the entry.\n",
    "    \n",
    "    Format the bib database into html. \"\"\"\n",
    "         \n",
    "    html = '<div class=\"publications\"> \\n\\n'\n",
    "    for entry in bib_db:\n",
    "        html += '<div class=\"paper\"> \\n'\n",
    "        html += '<div class=\"paper_title\">%s</div>\\n'%( format_key('title', entry, map_func) )\n",
    "        \n",
    "        html += '<div class=\"author_list\">%s</div>\\n'%( format_key('author', entry, map_func) )\n",
    "        #pprint.pprint(entry)\n",
    "        place = ''\n",
    "        if 'journal' in entry:\n",
    "            place = format_key('journal', entry, map_func)\n",
    "        elif 'booktitle' in entry:\n",
    "            place = format_key('booktitle', entry, map_func)    \n",
    "        html += '<span class=\"submit_to\">%s</span>, '%place\n",
    "        if 'year' in entry:\n",
    "            html += format_key('year', entry, map_func)    \n",
    "        html += '. \\n'\n",
    "        #if 'link' in entry:\n",
    "        #    html += 'URL: ' + format_key('link', entry, map_func)  + '\\n'\n",
    "        html += '<div class=\"links\">Link: \\n'\n",
    "        if 'wj_http' in entry:\n",
    "            html += '<a class=\"wj_http\" href=\"%s\">http</a>\\n'%( entry['wj_http'] )\n",
    "        if 'wj_pdf' in entry:\n",
    "            html += '<a class=\"wj_pdf\" href=\"%s\">pdf</a>\\n'%( entry['wj_pdf'] )\n",
    "        if 'wj_code' in entry:\n",
    "            html += '<a class=\"wj_code\" href=\"%s\">code</a>\\n'%( entry['wj_code'] )\n",
    "        # bib link \n",
    "        html += '<a class=\"biblink\">bib</a> \\n'\n",
    "        html += '</div> <!-- end links -->\\n'\n",
    "        # bib source. Can use jquery to make a sliding effect.\n",
    "        html += '<pre class=\"bibsrc\">%s</pre><!-- end bib source -->\\n' % (map_src[entry['id']])\n",
    "        \n",
    "        # end paper\n",
    "        html += '</div>'\n",
    "        \n",
    "        html += '\\n\\n'\n",
    "    \n",
    "    html += '</div> \\n'\n",
    "    return html\n",
    "    \n",
    "ignore_keys = ['wj_http', 'wj_pdf']\n",
    "src = id2bibsrc(fname, ignore_keys)\n",
    "map_func = {'author': lambda au_list: format_author(au_list, author_func)}\n",
    "print format_html_bib_db(bib_db.entries, map_func, src)\n"
   ]
  },
  {
   "cell_type": "code",
   "execution_count": null,
   "metadata": {
    "collapsed": false
   },
   "outputs": [],
   "source": []
  }
 ],
 "metadata": {
  "kernelspec": {
   "display_name": "Python 2",
   "language": "python",
   "name": "python2"
  },
  "language_info": {
   "codemirror_mode": {
    "name": "ipython",
    "version": 2
   },
   "file_extension": ".py",
   "mimetype": "text/x-python",
   "name": "python",
   "nbconvert_exporter": "python",
   "pygments_lexer": "ipython2",
   "version": "2.7.11"
  }
 },
 "nbformat": 4,
 "nbformat_minor": 0
}
